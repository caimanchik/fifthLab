{
  "nbformat": 4,
  "nbformat_minor": 0,
  "metadata": {
    "colab": {
      "provenance": []
    },
    "kernelspec": {
      "name": "python3",
      "display_name": "Python 3"
    },
    "language_info": {
      "name": "python"
    }
  },
  "cells": [
    {
      "cell_type": "code",
      "execution_count": null,
      "metadata": {
        "colab": {
          "base_uri": "https://localhost:8080/"
        },
        "id": "nhqo8VaxEtBt",
        "outputId": "9ea9603a-120d-4183-f836-4d5b5747cd70"
      },
      "outputs": [
        {
          "output_type": "stream",
          "name": "stdout",
          "text": [
            "27\n"
          ]
        }
      ],
      "source": [
        "f = lambda x: x ** 3\n",
        "\n",
        "print(f(3))"
      ]
    },
    {
      "cell_type": "code",
      "source": [
        "d = lambda a, b: None if b == 0 else a / b\n",
        "\n",
        "print(d(6, 0))"
      ],
      "metadata": {
        "colab": {
          "base_uri": "https://localhost:8080/"
        },
        "id": "L9HEMi-LE3JB",
        "outputId": "6f0b97ec-c582-4785-ec90-20baedae01ea"
      },
      "execution_count": null,
      "outputs": [
        {
          "output_type": "stream",
          "name": "stdout",
          "text": [
            "None\n"
          ]
        }
      ]
    },
    {
      "cell_type": "code",
      "source": [
        "f2 = lambda s: True if \"стол\" in s.lower() else False\n",
        "\n",
        "print(f2(\"Стол\"))"
      ],
      "metadata": {
        "colab": {
          "base_uri": "https://localhost:8080/"
        },
        "id": "yhXF1Ha-Fxc8",
        "outputId": "ee967887-d73d-42b5-b239-e6ce204f06e2"
      },
      "execution_count": null,
      "outputs": [
        {
          "output_type": "stream",
          "name": "stdout",
          "text": [
            "True\n"
          ]
        }
      ]
    },
    {
      "cell_type": "code",
      "source": [
        "def f3(arr, *args):\n",
        "  return list(filter(args[0], arr)) if len(args) > 0 else arr\n",
        "\n",
        "a = [x for x in range(10)]\n",
        "\n",
        "print(f3(a, lambda x: x >= 5))\n",
        "print(f3(a))"
      ],
      "metadata": {
        "colab": {
          "base_uri": "https://localhost:8080/"
        },
        "id": "5qOxY_EOGePY",
        "outputId": "fca863d7-6566-45b7-e354-ae0830427f1b"
      },
      "execution_count": null,
      "outputs": [
        {
          "output_type": "stream",
          "name": "stdout",
          "text": [
            "[5, 6, 7, 8, 9]\n",
            "[0, 1, 2, 3, 4, 5, 6, 7, 8, 9]\n"
          ]
        }
      ]
    },
    {
      "cell_type": "code",
      "source": [
        "def counter(start):\n",
        "  count = start\n",
        "  \n",
        "  def inside():\n",
        "    nonlocal count\n",
        "    count += 1\n",
        "    return count\n",
        "  \n",
        "  return inside\n",
        "\n",
        "ans = counter(3)\n",
        "ans2 = counter(10)\n",
        "\n",
        "print(ans())\n",
        "print(ans())\n",
        "print(ans2())"
      ],
      "metadata": {
        "colab": {
          "base_uri": "https://localhost:8080/"
        },
        "id": "0eMcztTWJPm-",
        "outputId": "9b6c18ff-f0c6-4243-b7fb-ca7554e20967"
      },
      "execution_count": null,
      "outputs": [
        {
          "output_type": "stream",
          "name": "stdout",
          "text": [
            "4\n",
            "5\n",
            "11\n"
          ]
        }
      ]
    },
    {
      "cell_type": "code",
      "source": [
        "def decorate_square(fn):\n",
        "  def wrapper(a, b):\n",
        "    return f\"Площадь прямоугольника: {fn(a, b)}\"\n",
        "  \n",
        "  return wrapper\n",
        "  \n",
        "\n",
        "@decorate_square\n",
        "def square(a, b):\n",
        "  return a * b\n",
        "\n",
        "print(square(2, 3))"
      ],
      "metadata": {
        "colab": {
          "base_uri": "https://localhost:8080/"
        },
        "id": "QvmLJkB9MOaP",
        "outputId": "dc535065-8793-4514-ac2f-ac528114602d"
      },
      "execution_count": null,
      "outputs": [
        {
          "output_type": "stream",
          "name": "stdout",
          "text": [
            "Площадь прямоугольника: 6\n"
          ]
        }
      ]
    },
    {
      "cell_type": "code",
      "source": [
        "def decorate_arr(fn):\n",
        "  def wrapper(arr):\n",
        "    return sorted(fn(arr))\n",
        "  \n",
        "  return wrapper\n",
        "\n",
        "@decorate_arr\n",
        "def get_arr(s):\n",
        "  return map(lambda x: int(x), s.split(\" \"))\n",
        "\n",
        "\n",
        "print(get_arr(\"9 8 7 6 5 4 3 2 1\"))"
      ],
      "metadata": {
        "colab": {
          "base_uri": "https://localhost:8080/"
        },
        "id": "88-88MdRP6Vz",
        "outputId": "0d9d3b26-f18a-4c75-c869-408aca963108"
      },
      "execution_count": null,
      "outputs": [
        {
          "output_type": "stream",
          "name": "stdout",
          "text": [
            "[1, 2, 3, 4, 5, 6, 7, 8, 9]\n"
          ]
        }
      ]
    },
    {
      "cell_type": "code",
      "source": [
        "def decorate_arrays(fn):\n",
        "  def wrap(s1, s2):\n",
        "    return dict(sorted(zip(*fn(s1, s2)), key=lambda x: x[1]))\n",
        "  \n",
        "  return wrap\n",
        "\n",
        "@decorate_arrays\n",
        "def str_to_arr(s1, s2):\n",
        "  return s1.split(' '), s2.split(' ')\n",
        "\n",
        "print(str_to_arr(\"a b c\", \"c b a\"))"
      ],
      "metadata": {
        "colab": {
          "base_uri": "https://localhost:8080/"
        },
        "id": "k4cVvY_KQ5Zr",
        "outputId": "5aaf9745-860f-4e0e-9748-dd30332872d1"
      },
      "execution_count": null,
      "outputs": [
        {
          "output_type": "stream",
          "name": "stdout",
          "text": [
            "{'c': 'a', 'b': 'b', 'a': 'c'}\n"
          ]
        }
      ]
    }
  ]
}